{
 "cells": [
  {
   "cell_type": "markdown",
   "metadata": {},
   "source": [
    "Importing needed libraries"
   ]
  },
  {
   "cell_type": "code",
   "execution_count": 199,
   "metadata": {},
   "outputs": [],
   "source": [
    "import pandas as pd"
   ]
  },
  {
   "cell_type": "markdown",
   "metadata": {},
   "source": [
    "Mbledhja e të dhënave, definimi i tipeve të dhënave, kualiteti i të dhënave."
   ]
  },
  {
   "cell_type": "code",
   "execution_count": 212,
   "metadata": {},
   "outputs": [
    {
     "name": "stdout",
     "output_type": "stream",
     "text": [
      "country                object\n",
      "year                    int64\n",
      "sex                    object\n",
      "age                    object\n",
      "suicides_no             int64\n",
      "population              int64\n",
      "suicides/100k pop     float64\n",
      "country-year           object\n",
      "HDI for year          float64\n",
      " gdp_for_year ($)      object\n",
      "gdp_per_capita ($)      int64\n",
      "generation             object\n",
      "dtype: object\n",
      "               year   suicides_no    population  suicides/100k pop  \\\n",
      "count  27820.000000  27820.000000  2.782000e+04       27820.000000   \n",
      "mean    2001.258375    242.574407  1.844794e+06          12.816097   \n",
      "std        8.469055    902.047917  3.911779e+06          18.961511   \n",
      "min     1985.000000      0.000000  2.780000e+02           0.000000   \n",
      "25%     1995.000000      3.000000  9.749850e+04           0.920000   \n",
      "50%     2002.000000     25.000000  4.301500e+05           5.990000   \n",
      "75%     2008.000000    131.000000  1.486143e+06          16.620000   \n",
      "max     2016.000000  22338.000000  4.380521e+07         224.970000   \n",
      "\n",
      "       HDI for year  gdp_per_capita ($)  \n",
      "count   8364.000000        27820.000000  \n",
      "mean       0.776601        16866.464414  \n",
      "std        0.093367        18887.576472  \n",
      "min        0.483000          251.000000  \n",
      "25%        0.713000         3447.000000  \n",
      "50%        0.779000         9372.000000  \n",
      "75%        0.855000        24874.000000  \n",
      "max        0.944000       126352.000000  \n"
     ]
    }
   ],
   "source": [
    "df = pd.read_csv(r'./master.csv')\n",
    "\n",
    "print(df.dtypes)\n",
    "print(df.describe())"
   ]
  },
  {
   "cell_type": "markdown",
   "metadata": {},
   "source": [
    "Riemerimi i Kolonave per perdorim me te lehte"
   ]
  },
  {
   "cell_type": "code",
   "execution_count": 213,
   "metadata": {},
   "outputs": [],
   "source": [
    "df=df.rename(columns={'sex':'gender','gdp_per_capita ($)':'gdp_per_capita',' gdp_for_year ($) ':'gdp_for_year'})"
   ]
  },
  {
   "cell_type": "markdown",
   "metadata": {},
   "source": [
    "Ndryshimi i Dimensionalitetit"
   ]
  },
  {
   "cell_type": "code",
   "execution_count": 214,
   "metadata": {},
   "outputs": [],
   "source": [
    "df = df[['country','year','country-year', 'gender', 'age', 'suicides_no','population','suicides/100k pop','gdp_for_year','gdp_per_capita','HDI for year']]"
   ]
  },
  {
   "cell_type": "markdown",
   "metadata": {},
   "source": [
    "Menaxhimi i vlerave null"
   ]
  },
  {
   "cell_type": "code",
   "execution_count": 215,
   "metadata": {},
   "outputs": [
    {
     "name": "stderr",
     "output_type": "stream",
     "text": [
      "C:\\Users\\EndritHoda\\AppData\\Local\\Temp\\ipykernel_29032\\2033429153.py:7: FutureWarning: A value is trying to be set on a copy of a DataFrame or Series through chained assignment using an inplace method.\n",
      "The behavior will change in pandas 3.0. This inplace method will never work because the intermediate object on which we are setting values always behaves as a copy.\n",
      "\n",
      "For example, when doing 'df[col].method(value, inplace=True)', try using 'df.method({col: value}, inplace=True)' or df[col] = df[col].method(value) instead, to perform the operation inplace on the original object.\n",
      "\n",
      "\n",
      "  df['HDI for year'].fillna(mean_hdi_per_country, inplace=True)\n"
     ]
    }
   ],
   "source": [
    "df['HDI for year'] = pd.to_numeric(df['HDI for year'], errors='coerce')\n",
    "\n",
    "# Calculate the mean HDI for each country (considering only the relevant year)\n",
    "mean_hdi_per_country = df.groupby('country-year')['HDI for year'].transform('mean')\n",
    "\n",
    "# Fill missing HDI values with the mean HDI of the respective country\n",
    "df['HDI for year'].fillna(mean_hdi_per_country, inplace=True)"
   ]
  }
 ],
 "metadata": {
  "kernelspec": {
   "display_name": "Python 3",
   "language": "python",
   "name": "python3"
  },
  "language_info": {
   "codemirror_mode": {
    "name": "ipython",
    "version": 3
   },
   "file_extension": ".py",
   "mimetype": "text/x-python",
   "name": "python",
   "nbconvert_exporter": "python",
   "pygments_lexer": "ipython3",
   "version": "3.10.11"
  }
 },
 "nbformat": 4,
 "nbformat_minor": 2
}
